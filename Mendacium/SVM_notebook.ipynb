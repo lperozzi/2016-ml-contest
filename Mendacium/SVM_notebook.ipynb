{
 "cells": [
  {
   "cell_type": "markdown",
   "metadata": {},
   "source": [
    "# Thanish's entry\n",
    "\n",
    "*Note from Matt: I converted this from the `Rmd` file with [the `ipyrmd` utility](https://github.com/chronitis/ipyrmd), which worked almost perfectly.*"
   ]
  },
  {
   "cell_type": "markdown",
   "metadata": {},
   "source": [
    "This is my first time using a notebook and github so I just want to run the inital SVM to see how it works and what is the accuracy I am getting."
   ]
  },
  {
   "cell_type": "code",
   "execution_count": null,
   "metadata": {
    "collapsed": false
   },
   "outputs": [],
   "source": [
    "# Uncomment this line if you don't already have this library.\n",
    "# install.packages(\"e1071\", repos=\"http://cran.rstudio.com/\")"
   ]
  },
  {
   "cell_type": "code",
   "execution_count": 4,
   "metadata": {
    "autoscroll": false,
    "collapsed": false
   },
   "outputs": [],
   "source": [
    "library(e1071)"
   ]
  },
  {
   "cell_type": "markdown",
   "metadata": {},
   "source": [
    "## Reading the file"
   ]
  },
  {
   "cell_type": "code",
   "execution_count": 5,
   "metadata": {
    "autoscroll": false,
    "collapsed": true
   },
   "outputs": [],
   "source": [
    "train_prod = read.csv('../facies_vectors.csv')\n",
    "test_prod = read.csv('../nofacies_data.csv')"
   ]
  },
  {
   "cell_type": "markdown",
   "metadata": {},
   "source": [
    "## Check the structure of the file"
   ]
  },
  {
   "cell_type": "code",
   "execution_count": 6,
   "metadata": {
    "autoscroll": false,
    "collapsed": false
   },
   "outputs": [
    {
     "name": "stdout",
     "output_type": "stream",
     "text": [
      "'data.frame':\t4149 obs. of  11 variables:\n",
      " $ Facies   : int  3 3 3 3 3 3 3 3 3 3 ...\n",
      " $ Formation: Factor w/ 14 levels \"A1 LM\",\"A1 SH\",..: 2 2 2 2 2 2 2 2 2 2 ...\n",
      " $ Well.Name: Factor w/ 10 levels \"ALEXANDER D\",..: 10 10 10 10 10 10 10 10 10 10 ...\n",
      " $ Depth    : num  2793 2794 2794 2794 2795 ...\n",
      " $ GR       : num  77.5 78.3 79 86.1 74.6 ...\n",
      " $ ILD_log10: num  0.664 0.661 0.658 0.655 0.647 0.636 0.63 0.625 0.624 0.615 ...\n",
      " $ DeltaPHI : num  9.9 14.2 14.8 13.9 13.5 14 15.6 16.5 16.2 16.9 ...\n",
      " $ PHIND    : num  11.9 12.6 13.1 13.1 13.3 ...\n",
      " $ PE       : num  4.6 4.1 3.6 3.5 3.4 3.6 3.7 3.5 3.4 3.5 ...\n",
      " $ NM_M     : int  1 1 1 1 1 1 1 1 1 1 ...\n",
      " $ RELPOS   : num  1 0.979 0.957 0.936 0.915 0.894 0.872 0.83 0.809 0.787 ...\n",
      "'data.frame':\t830 obs. of  10 variables:\n",
      " $ Formation: Factor w/ 14 levels \"A1 LM\",\"A1 SH\",..: 2 2 2 2 2 2 2 2 2 2 ...\n",
      " $ Well.Name: Factor w/ 2 levels \"CRAWFORD\",\"STUART\": 2 2 2 2 2 2 2 2 2 2 ...\n",
      " $ Depth    : num  2808 2808 2809 2810 2810 ...\n",
      " $ GR       : num  66.3 77.3 82.9 80.7 76 ...\n",
      " $ ILD_log10: num  0.63 0.585 0.566 0.593 0.638 0.667 0.674 0.667 0.653 0.642 ...\n",
      " $ DeltaPHI : num  3.3 6.5 9.4 9.5 8.7 6.9 6.5 6.3 6.7 7.3 ...\n",
      " $ PHIND    : num  10.7 11.9 13.6 13.2 12.3 ...\n",
      " $ PE       : num  3.59 3.34 3.06 2.98 3.02 ...\n",
      " $ NM_M     : int  1 1 1 1 1 1 1 1 1 1 ...\n",
      " $ RELPOS   : num  1 0.978 0.956 0.933 0.911 0.889 0.867 0.844 0.822 0.8 ...\n"
     ]
    }
   ],
   "source": [
    "str(train_prod)\n",
    "str(test_prod)"
   ]
  },
  {
   "cell_type": "markdown",
   "metadata": {},
   "source": [
    "## Removing the rows with NA's"
   ]
  },
  {
   "cell_type": "code",
   "execution_count": 7,
   "metadata": {
    "autoscroll": false,
    "collapsed": true
   },
   "outputs": [],
   "source": [
    "train_prod = train_prod[!is.na(train_prod$PE),]"
   ]
  },
  {
   "cell_type": "markdown",
   "metadata": {},
   "source": [
    "## Converting the Facies column to factor"
   ]
  },
  {
   "cell_type": "code",
   "execution_count": 8,
   "metadata": {
    "autoscroll": false,
    "collapsed": true
   },
   "outputs": [],
   "source": [
    "train_prod$Facies = as.factor(as.character(train_prod$Facies))"
   ]
  },
  {
   "cell_type": "markdown",
   "metadata": {},
   "source": [
    "## Splitting into train and local validation test"
   ]
  },
  {
   "cell_type": "code",
   "execution_count": 9,
   "metadata": {
    "autoscroll": false,
    "collapsed": true
   },
   "outputs": [],
   "source": [
    "train_row = sample(nrow(train_prod), 0.7*nrow(train_prod), replace=F)\n",
    "train_local = train_prod[train_row,]\n",
    "test_local  = train_prod[-train_row,]"
   ]
  },
  {
   "cell_type": "markdown",
   "metadata": {},
   "source": [
    "## Creating SVM model"
   ]
  },
  {
   "cell_type": "code",
   "execution_count": 10,
   "metadata": {
    "autoscroll": false,
    "collapsed": true
   },
   "outputs": [],
   "source": [
    "SVM.local.model = svm(Facies~., data = train_local[!colnames(train_local) %in% c('Formation',\n",
    "                                                                                 'Well.Name',\n",
    "                                                                                 'Depth'\n",
    "                                                                                 )])\n",
    "SVM.local.pred = predict(SVM.local.model, newdata = test_local)"
   ]
  },
  {
   "cell_type": "markdown",
   "metadata": {},
   "source": [
    "## Local validation set accuracy"
   ]
  },
  {
   "cell_type": "code",
   "execution_count": 11,
   "metadata": {
    "autoscroll": false,
    "collapsed": false
   },
   "outputs": [
    {
     "data": {
      "text/plain": [
       "              \n",
       "SVM.local.pred   1   2   3   4   5   6   7   8   9\n",
       "             1  34   6   1   0   0   0   0   0   0\n",
       "             2  31 169  62   0   2   0   0   0   0\n",
       "             3   1  54 128   0   3   0   1   5   0\n",
       "             4   0   0   1  29   2  17   1   3   0\n",
       "             5   0   0   2   1   1   0   1   0   0\n",
       "             6   0   0   1  18  50  98   3  33   4\n",
       "             7   0   1   0   0   2   3  12   1   1\n",
       "             8   0   0   1   2  13  16   6 104  14\n",
       "             9   0   0   0   0   0   0   1   2  29"
      ]
     },
     "execution_count": 11,
     "metadata": {},
     "output_type": "execute_result"
    },
    {
     "data": {
      "text/html": [
       "0.622680412371134"
      ],
      "text/latex": [
       "0.622680412371134"
      ],
      "text/markdown": [
       "0.622680412371134"
      ],
      "text/plain": [
       "[1] 0.6226804"
      ]
     },
     "execution_count": 11,
     "metadata": {},
     "output_type": "execute_result"
    }
   ],
   "source": [
    "acc_table_SVM = table(SVM.local.pred, test_local$Facies)\n",
    "acc_table_SVM\n",
    "acc_SVM = sum(diag(acc_table_SVM))/nrow(test_local)\n",
    "acc_SVM"
   ]
  },
  {
   "cell_type": "markdown",
   "metadata": {},
   "source": [
    "## Predicting on the blind dataset"
   ]
  },
  {
   "cell_type": "code",
   "execution_count": 12,
   "metadata": {
    "autoscroll": false,
    "collapsed": true
   },
   "outputs": [],
   "source": [
    "SVM.prod.pred = predict(SVM.local.model, newdata = test_prod)"
   ]
  },
  {
   "cell_type": "markdown",
   "metadata": {},
   "source": [
    "## Forming the submission file"
   ]
  },
  {
   "cell_type": "code",
   "execution_count": 13,
   "metadata": {
    "autoscroll": false,
    "collapsed": true
   },
   "outputs": [],
   "source": [
    "sub = cbind(test_prod, Facies = SVM.prod.pred)"
   ]
  },
  {
   "cell_type": "markdown",
   "metadata": {},
   "source": [
    "## Writting the predicted output file"
   ]
  },
  {
   "cell_type": "code",
   "execution_count": 14,
   "metadata": {
    "autoscroll": false,
    "collapsed": true
   },
   "outputs": [],
   "source": [
    "write.csv(sub, row.names= F, 'SVM_predicted_facies_MATT.csv')"
   ]
  },
  {
   "cell_type": "markdown",
   "metadata": {},
   "source": [
    "\n"
   ]
  }
 ],
 "metadata": {
  "kernelspec": {
   "display_name": "R",
   "language": "R",
   "name": "ir"
  },
  "language_info": {
   "codemirror_mode": "r",
   "file_extension": ".r",
   "mimetype": "text/x-r-source",
   "name": "R",
   "pygments_lexer": "r",
   "version": "3.2.2"
  }
 },
 "nbformat": 4,
 "nbformat_minor": 0
}
