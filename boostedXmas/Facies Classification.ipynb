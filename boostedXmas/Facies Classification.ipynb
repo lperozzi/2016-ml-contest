{
 "cells": [
  {
   "cell_type": "markdown",
   "metadata": {},
   "source": [
    "## Boosted regression trees\n",
    "Trying boosted regression trees in the gbm package, including lag and lead for all variables except depth.\n",
    "\n",
    "[This is me](https://www.linkedin.com/in/%C3%B8ystein-s%C3%B8rensen-4a877831/)"
   ]
  },
  {
   "cell_type": "markdown",
   "metadata": {},
   "source": [
    "## Data load"
   ]
  },
  {
   "cell_type": "code",
   "execution_count": 1,
   "metadata": {
    "collapsed": false
   },
   "outputs": [],
   "source": [
    "trainingData <- read.csv(\"../training_data.csv\")\n",
    "testData <- read.csv(\"../validation_data_nofacies.csv\")\n",
    "\n",
    "# Convert the class labels to factora\n",
    "trainingData$Facies <- as.factor(trainingData$Facies)\n",
    "\n",
    "# Add a Facies column to test data\n",
    "testData <- cbind(Facies = as.factor(-1), testData)"
   ]
  },
  {
   "cell_type": "markdown",
   "metadata": {},
   "source": [
    "## Some feature engineering\n",
    "Adding lead and lag for every row. In the top and bottom, I replace NA with the current value."
   ]
  },
  {
   "cell_type": "code",
   "execution_count": 2,
   "metadata": {
    "collapsed": false
   },
   "outputs": [],
   "source": [
    "# Reorganizing the columns, putting the columns to have lag/lead at the end\n",
    "order <- c(\"Facies\", \"Well.Name\", \"Depth\", \"RELPOS\", \"Formation\", \"GR\", \"ILD_log10\", \"DeltaPHI\", \"PHIND\", \"PE\", \"NM_M\")\n",
    "\n",
    "trainingData <- trainingData[, order]\n",
    "testData <- testData[, order]"
   ]
  },
  {
   "cell_type": "markdown",
   "metadata": {},
   "source": [
    "Printing out the data frame to confirm that the transformation was correct."
   ]
  },
  {
   "cell_type": "code",
   "execution_count": 3,
   "metadata": {
    "collapsed": false
   },
   "outputs": [
    {
     "data": {
      "text/html": [
       "<table>\n",
       "<thead><tr><th scope=col>Facies</th><th scope=col>Well.Name</th><th scope=col>Depth</th><th scope=col>RELPOS</th><th scope=col>Formation</th><th scope=col>GR</th><th scope=col>ILD_log10</th><th scope=col>DeltaPHI</th><th scope=col>PHIND</th><th scope=col>PE</th><th scope=col>NM_M</th></tr></thead>\n",
       "<tbody>\n",
       "\t<tr><td>3        </td><td>SHRIMPLIN</td><td>2793.0   </td><td>1.000    </td><td>A1 SH    </td><td>77.45    </td><td>0.664    </td><td> 9.9     </td><td>11.915   </td><td>4.6      </td><td>1        </td></tr>\n",
       "\t<tr><td>3        </td><td>SHRIMPLIN</td><td>2793.5   </td><td>0.979    </td><td>A1 SH    </td><td>78.26    </td><td>0.661    </td><td>14.2     </td><td>12.565   </td><td>4.1      </td><td>1        </td></tr>\n",
       "\t<tr><td>3        </td><td>SHRIMPLIN</td><td>2794.0   </td><td>0.957    </td><td>A1 SH    </td><td>79.05    </td><td>0.658    </td><td>14.8     </td><td>13.050   </td><td>3.6      </td><td>1        </td></tr>\n",
       "\t<tr><td>3        </td><td>SHRIMPLIN</td><td>2794.5   </td><td>0.936    </td><td>A1 SH    </td><td>86.10    </td><td>0.655    </td><td>13.9     </td><td>13.115   </td><td>3.5      </td><td>1        </td></tr>\n",
       "\t<tr><td>3        </td><td>SHRIMPLIN</td><td>2795.0   </td><td>0.915    </td><td>A1 SH    </td><td>74.58    </td><td>0.647    </td><td>13.5     </td><td>13.300   </td><td>3.4      </td><td>1        </td></tr>\n",
       "\t<tr><td>3        </td><td>SHRIMPLIN</td><td>2795.5   </td><td>0.894    </td><td>A1 SH    </td><td>73.97    </td><td>0.636    </td><td>14.0     </td><td>13.385   </td><td>3.6      </td><td>1        </td></tr>\n",
       "</tbody>\n",
       "</table>\n"
      ],
      "text/latex": [
       "\\begin{tabular}{r|lllllllllll}\n",
       " Facies & Well.Name & Depth & RELPOS & Formation & GR & ILD\\_log10 & DeltaPHI & PHIND & PE & NM\\_M\\\\\n",
       "\\hline\n",
       "\t 3         & SHRIMPLIN & 2793.0    & 1.000     & A1 SH     & 77.45     & 0.664     &  9.9      & 11.915    & 4.6       & 1        \\\\\n",
       "\t 3         & SHRIMPLIN & 2793.5    & 0.979     & A1 SH     & 78.26     & 0.661     & 14.2      & 12.565    & 4.1       & 1        \\\\\n",
       "\t 3         & SHRIMPLIN & 2794.0    & 0.957     & A1 SH     & 79.05     & 0.658     & 14.8      & 13.050    & 3.6       & 1        \\\\\n",
       "\t 3         & SHRIMPLIN & 2794.5    & 0.936     & A1 SH     & 86.10     & 0.655     & 13.9      & 13.115    & 3.5       & 1        \\\\\n",
       "\t 3         & SHRIMPLIN & 2795.0    & 0.915     & A1 SH     & 74.58     & 0.647     & 13.5      & 13.300    & 3.4       & 1        \\\\\n",
       "\t 3         & SHRIMPLIN & 2795.5    & 0.894     & A1 SH     & 73.97     & 0.636     & 14.0      & 13.385    & 3.6       & 1        \\\\\n",
       "\\end{tabular}\n"
      ],
      "text/markdown": [
       "\n",
       "Facies | Well.Name | Depth | RELPOS | Formation | GR | ILD_log10 | DeltaPHI | PHIND | PE | NM_M | \n",
       "|---|---|---|---|---|---|\n",
       "| 3         | SHRIMPLIN | 2793.0    | 1.000     | A1 SH     | 77.45     | 0.664     |  9.9      | 11.915    | 4.6       | 1         | \n",
       "| 3         | SHRIMPLIN | 2793.5    | 0.979     | A1 SH     | 78.26     | 0.661     | 14.2      | 12.565    | 4.1       | 1         | \n",
       "| 3         | SHRIMPLIN | 2794.0    | 0.957     | A1 SH     | 79.05     | 0.658     | 14.8      | 13.050    | 3.6       | 1         | \n",
       "| 3         | SHRIMPLIN | 2794.5    | 0.936     | A1 SH     | 86.10     | 0.655     | 13.9      | 13.115    | 3.5       | 1         | \n",
       "| 3         | SHRIMPLIN | 2795.0    | 0.915     | A1 SH     | 74.58     | 0.647     | 13.5      | 13.300    | 3.4       | 1         | \n",
       "| 3         | SHRIMPLIN | 2795.5    | 0.894     | A1 SH     | 73.97     | 0.636     | 14.0      | 13.385    | 3.6       | 1         | \n",
       "\n",
       "\n"
      ],
      "text/plain": [
       "  Facies Well.Name Depth  RELPOS Formation GR    ILD_log10 DeltaPHI PHIND  PE \n",
       "1 3      SHRIMPLIN 2793.0 1.000  A1 SH     77.45 0.664      9.9     11.915 4.6\n",
       "2 3      SHRIMPLIN 2793.5 0.979  A1 SH     78.26 0.661     14.2     12.565 4.1\n",
       "3 3      SHRIMPLIN 2794.0 0.957  A1 SH     79.05 0.658     14.8     13.050 3.6\n",
       "4 3      SHRIMPLIN 2794.5 0.936  A1 SH     86.10 0.655     13.9     13.115 3.5\n",
       "5 3      SHRIMPLIN 2795.0 0.915  A1 SH     74.58 0.647     13.5     13.300 3.4\n",
       "6 3      SHRIMPLIN 2795.5 0.894  A1 SH     73.97 0.636     14.0     13.385 3.6\n",
       "  NM_M\n",
       "1 1   \n",
       "2 1   \n",
       "3 1   \n",
       "4 1   \n",
       "5 1   \n",
       "6 1   "
      ]
     },
     "metadata": {},
     "output_type": "display_data"
    },
    {
     "data": {
      "text/html": [
       "<table>\n",
       "<thead><tr><th scope=col>Facies</th><th scope=col>Well.Name</th><th scope=col>Depth</th><th scope=col>RELPOS</th><th scope=col>Formation</th><th scope=col>GR</th><th scope=col>ILD_log10</th><th scope=col>DeltaPHI</th><th scope=col>PHIND</th><th scope=col>PE</th><th scope=col>NM_M</th></tr></thead>\n",
       "<tbody>\n",
       "\t<tr><td>-1    </td><td>STUART</td><td>2808.0</td><td>1.000 </td><td>A1 SH </td><td>66.276</td><td>0.630 </td><td>3.3   </td><td>10.65 </td><td>3.591 </td><td>1     </td></tr>\n",
       "\t<tr><td>-1    </td><td>STUART</td><td>2808.5</td><td>0.978 </td><td>A1 SH </td><td>77.252</td><td>0.585 </td><td>6.5   </td><td>11.95 </td><td>3.341 </td><td>1     </td></tr>\n",
       "\t<tr><td>-1    </td><td>STUART</td><td>2809.0</td><td>0.956 </td><td>A1 SH </td><td>82.899</td><td>0.566 </td><td>9.4   </td><td>13.60 </td><td>3.064 </td><td>1     </td></tr>\n",
       "\t<tr><td>-1    </td><td>STUART</td><td>2809.5</td><td>0.933 </td><td>A1 SH </td><td>80.671</td><td>0.593 </td><td>9.5   </td><td>13.25 </td><td>2.977 </td><td>1     </td></tr>\n",
       "\t<tr><td>-1    </td><td>STUART</td><td>2810.0</td><td>0.911 </td><td>A1 SH </td><td>75.971</td><td>0.638 </td><td>8.7   </td><td>12.35 </td><td>3.020 </td><td>1     </td></tr>\n",
       "\t<tr><td>-1    </td><td>STUART</td><td>2810.5</td><td>0.889 </td><td>A1 SH </td><td>73.955</td><td>0.667 </td><td>6.9   </td><td>12.25 </td><td>3.086 </td><td>1     </td></tr>\n",
       "</tbody>\n",
       "</table>\n"
      ],
      "text/latex": [
       "\\begin{tabular}{r|lllllllllll}\n",
       " Facies & Well.Name & Depth & RELPOS & Formation & GR & ILD\\_log10 & DeltaPHI & PHIND & PE & NM\\_M\\\\\n",
       "\\hline\n",
       "\t -1     & STUART & 2808.0 & 1.000  & A1 SH  & 66.276 & 0.630  & 3.3    & 10.65  & 3.591  & 1     \\\\\n",
       "\t -1     & STUART & 2808.5 & 0.978  & A1 SH  & 77.252 & 0.585  & 6.5    & 11.95  & 3.341  & 1     \\\\\n",
       "\t -1     & STUART & 2809.0 & 0.956  & A1 SH  & 82.899 & 0.566  & 9.4    & 13.60  & 3.064  & 1     \\\\\n",
       "\t -1     & STUART & 2809.5 & 0.933  & A1 SH  & 80.671 & 0.593  & 9.5    & 13.25  & 2.977  & 1     \\\\\n",
       "\t -1     & STUART & 2810.0 & 0.911  & A1 SH  & 75.971 & 0.638  & 8.7    & 12.35  & 3.020  & 1     \\\\\n",
       "\t -1     & STUART & 2810.5 & 0.889  & A1 SH  & 73.955 & 0.667  & 6.9    & 12.25  & 3.086  & 1     \\\\\n",
       "\\end{tabular}\n"
      ],
      "text/markdown": [
       "\n",
       "Facies | Well.Name | Depth | RELPOS | Formation | GR | ILD_log10 | DeltaPHI | PHIND | PE | NM_M | \n",
       "|---|---|---|---|---|---|\n",
       "| -1     | STUART | 2808.0 | 1.000  | A1 SH  | 66.276 | 0.630  | 3.3    | 10.65  | 3.591  | 1      | \n",
       "| -1     | STUART | 2808.5 | 0.978  | A1 SH  | 77.252 | 0.585  | 6.5    | 11.95  | 3.341  | 1      | \n",
       "| -1     | STUART | 2809.0 | 0.956  | A1 SH  | 82.899 | 0.566  | 9.4    | 13.60  | 3.064  | 1      | \n",
       "| -1     | STUART | 2809.5 | 0.933  | A1 SH  | 80.671 | 0.593  | 9.5    | 13.25  | 2.977  | 1      | \n",
       "| -1     | STUART | 2810.0 | 0.911  | A1 SH  | 75.971 | 0.638  | 8.7    | 12.35  | 3.020  | 1      | \n",
       "| -1     | STUART | 2810.5 | 0.889  | A1 SH  | 73.955 | 0.667  | 6.9    | 12.25  | 3.086  | 1      | \n",
       "\n",
       "\n"
      ],
      "text/plain": [
       "  Facies Well.Name Depth  RELPOS Formation GR     ILD_log10 DeltaPHI PHIND\n",
       "1 -1     STUART    2808.0 1.000  A1 SH     66.276 0.630     3.3      10.65\n",
       "2 -1     STUART    2808.5 0.978  A1 SH     77.252 0.585     6.5      11.95\n",
       "3 -1     STUART    2809.0 0.956  A1 SH     82.899 0.566     9.4      13.60\n",
       "4 -1     STUART    2809.5 0.933  A1 SH     80.671 0.593     9.5      13.25\n",
       "5 -1     STUART    2810.0 0.911  A1 SH     75.971 0.638     8.7      12.35\n",
       "6 -1     STUART    2810.5 0.889  A1 SH     73.955 0.667     6.9      12.25\n",
       "  PE    NM_M\n",
       "1 3.591 1   \n",
       "2 3.341 1   \n",
       "3 3.064 1   \n",
       "4 2.977 1   \n",
       "5 3.020 1   \n",
       "6 3.086 1   "
      ]
     },
     "metadata": {},
     "output_type": "display_data"
    }
   ],
   "source": [
    "head(trainingData)\n",
    "head(testData)"
   ]
  },
  {
   "cell_type": "code",
   "execution_count": 4,
   "metadata": {
    "collapsed": false
   },
   "outputs": [
    {
     "name": "stderr",
     "output_type": "stream",
     "text": [
      "\n",
      "Attaching package: 'dplyr'\n",
      "\n",
      "The following objects are masked from 'package:stats':\n",
      "\n",
      "    filter, lag\n",
      "\n",
      "The following objects are masked from 'package:base':\n",
      "\n",
      "    intersect, setdiff, setequal, union\n",
      "\n"
     ]
    }
   ],
   "source": [
    "library(dplyr)\n",
    "\n",
    "featureEng <- function(x) {\n",
    "    x <- x %>%    \n",
    "        group_by(Well.Name) %>%\n",
    "        mutate(\n",
    "            prev.Formation = lag(Formation), next.Formation = lead(Formation),\n",
    "            prev.GR = lag(GR), next.GR = lead(GR),\n",
    "            prev.ILD_log10 = lag(ILD_log10), next.ILD_log10 = lead(ILD_log10),\n",
    "            prev.DeltaPHI = lag(DeltaPHI), next.DeltaPHI = lead(DeltaPHI),\n",
    "            prev.PHIND = lag(PHIND), next.PHIND = lead(PHIND),\n",
    "            prev.PE = lag(PE), next.PE = lead(PE),\n",
    "            prev.NM_M = lag(NM_M), next.NM_M = lead(NM_M)\n",
    "        )\n",
    "\n",
    "    vec <- 5:11 # The columns which have lag/lead\n",
    "    for(i in seq_along(vec)) { \n",
    "        cols <- vec[i] + 6 + i \n",
    "        rows <- is.na(x[, cols])\n",
    "        x[rows, cols] <- x[rows, vec[i]]\n",
    "        cols <- vec[i] + 7 + i \n",
    "        rows <- is.na(x[, cols])\n",
    "        x[rows, cols] <- x[rows, vec[i]]\n",
    "        }\n",
    "    return(x)\n",
    "}\n"
   ]
  },
  {
   "cell_type": "code",
   "execution_count": 5,
   "metadata": {
    "collapsed": false
   },
   "outputs": [],
   "source": [
    "trainingData <- featureEng(trainingData)\n",
    "testData <- featureEng(testData)"
   ]
  },
  {
   "cell_type": "code",
   "execution_count": 6,
   "metadata": {
    "collapsed": false
   },
   "outputs": [
    {
     "data": {
      "text/html": [
       "<table>\n",
       "<thead><tr><th scope=col>Facies</th><th scope=col>Well.Name</th><th scope=col>Depth</th><th scope=col>RELPOS</th><th scope=col>Formation</th><th scope=col>GR</th><th scope=col>ILD_log10</th><th scope=col>DeltaPHI</th><th scope=col>PHIND</th><th scope=col>PE</th><th scope=col>...</th><th scope=col>prev.ILD_log10</th><th scope=col>next.ILD_log10</th><th scope=col>prev.DeltaPHI</th><th scope=col>next.DeltaPHI</th><th scope=col>prev.PHIND</th><th scope=col>next.PHIND</th><th scope=col>prev.PE</th><th scope=col>next.PE</th><th scope=col>prev.NM_M</th><th scope=col>next.NM_M</th></tr></thead>\n",
       "<tbody>\n",
       "\t<tr><td>3        </td><td>SHRIMPLIN</td><td>2793.0   </td><td>1.000    </td><td>A1 SH    </td><td>77.45    </td><td>0.664    </td><td> 9.9     </td><td>11.915   </td><td>4.6      </td><td>...      </td><td>0.664    </td><td>0.661    </td><td> 9.9     </td><td>14.2     </td><td>11.915   </td><td>12.565   </td><td>4.6      </td><td>4.1      </td><td>1        </td><td>1        </td></tr>\n",
       "\t<tr><td>3        </td><td>SHRIMPLIN</td><td>2793.5   </td><td>0.979    </td><td>A1 SH    </td><td>78.26    </td><td>0.661    </td><td>14.2     </td><td>12.565   </td><td>4.1      </td><td>...      </td><td>0.664    </td><td>0.658    </td><td> 9.9     </td><td>14.8     </td><td>11.915   </td><td>13.050   </td><td>4.6      </td><td>3.6      </td><td>1        </td><td>1        </td></tr>\n",
       "\t<tr><td>3        </td><td>SHRIMPLIN</td><td>2794.0   </td><td>0.957    </td><td>A1 SH    </td><td>79.05    </td><td>0.658    </td><td>14.8     </td><td>13.050   </td><td>3.6      </td><td>...      </td><td>0.661    </td><td>0.655    </td><td>14.2     </td><td>13.9     </td><td>12.565   </td><td>13.115   </td><td>4.1      </td><td>3.5      </td><td>1        </td><td>1        </td></tr>\n",
       "\t<tr><td>3        </td><td>SHRIMPLIN</td><td>2794.5   </td><td>0.936    </td><td>A1 SH    </td><td>86.10    </td><td>0.655    </td><td>13.9     </td><td>13.115   </td><td>3.5      </td><td>...      </td><td>0.658    </td><td>0.647    </td><td>14.8     </td><td>13.5     </td><td>13.050   </td><td>13.300   </td><td>3.6      </td><td>3.4      </td><td>1        </td><td>1        </td></tr>\n",
       "\t<tr><td>3        </td><td>SHRIMPLIN</td><td>2795.0   </td><td>0.915    </td><td>A1 SH    </td><td>74.58    </td><td>0.647    </td><td>13.5     </td><td>13.300   </td><td>3.4      </td><td>...      </td><td>0.655    </td><td>0.636    </td><td>13.9     </td><td>14.0     </td><td>13.115   </td><td>13.385   </td><td>3.5      </td><td>3.6      </td><td>1        </td><td>1        </td></tr>\n",
       "\t<tr><td>3        </td><td>SHRIMPLIN</td><td>2795.5   </td><td>0.894    </td><td>A1 SH    </td><td>73.97    </td><td>0.636    </td><td>14.0     </td><td>13.385   </td><td>3.6      </td><td>...      </td><td>0.647    </td><td>0.630    </td><td>13.5     </td><td>15.6     </td><td>13.300   </td><td>13.930   </td><td>3.4      </td><td>3.7      </td><td>1        </td><td>1        </td></tr>\n",
       "</tbody>\n",
       "</table>\n"
      ],
      "text/latex": [
       "\\begin{tabular}{r|lllllllllllllllllllllllll}\n",
       " Facies & Well.Name & Depth & RELPOS & Formation & GR & ILD\\_log10 & DeltaPHI & PHIND & PE & ... & prev.ILD\\_log10 & next.ILD\\_log10 & prev.DeltaPHI & next.DeltaPHI & prev.PHIND & next.PHIND & prev.PE & next.PE & prev.NM\\_M & next.NM\\_M\\\\\n",
       "\\hline\n",
       "\t 3         & SHRIMPLIN & 2793.0    & 1.000     & A1 SH     & 77.45     & 0.664     &  9.9      & 11.915    & 4.6       & ...       & 0.664     & 0.661     &  9.9      & 14.2      & 11.915    & 12.565    & 4.6       & 4.1       & 1         & 1        \\\\\n",
       "\t 3         & SHRIMPLIN & 2793.5    & 0.979     & A1 SH     & 78.26     & 0.661     & 14.2      & 12.565    & 4.1       & ...       & 0.664     & 0.658     &  9.9      & 14.8      & 11.915    & 13.050    & 4.6       & 3.6       & 1         & 1        \\\\\n",
       "\t 3         & SHRIMPLIN & 2794.0    & 0.957     & A1 SH     & 79.05     & 0.658     & 14.8      & 13.050    & 3.6       & ...       & 0.661     & 0.655     & 14.2      & 13.9      & 12.565    & 13.115    & 4.1       & 3.5       & 1         & 1        \\\\\n",
       "\t 3         & SHRIMPLIN & 2794.5    & 0.936     & A1 SH     & 86.10     & 0.655     & 13.9      & 13.115    & 3.5       & ...       & 0.658     & 0.647     & 14.8      & 13.5      & 13.050    & 13.300    & 3.6       & 3.4       & 1         & 1        \\\\\n",
       "\t 3         & SHRIMPLIN & 2795.0    & 0.915     & A1 SH     & 74.58     & 0.647     & 13.5      & 13.300    & 3.4       & ...       & 0.655     & 0.636     & 13.9      & 14.0      & 13.115    & 13.385    & 3.5       & 3.6       & 1         & 1        \\\\\n",
       "\t 3         & SHRIMPLIN & 2795.5    & 0.894     & A1 SH     & 73.97     & 0.636     & 14.0      & 13.385    & 3.6       & ...       & 0.647     & 0.630     & 13.5      & 15.6      & 13.300    & 13.930    & 3.4       & 3.7       & 1         & 1        \\\\\n",
       "\\end{tabular}\n"
      ],
      "text/markdown": [
       "\n",
       "Facies | Well.Name | Depth | RELPOS | Formation | GR | ILD_log10 | DeltaPHI | PHIND | PE | ... | prev.ILD_log10 | next.ILD_log10 | prev.DeltaPHI | next.DeltaPHI | prev.PHIND | next.PHIND | prev.PE | next.PE | prev.NM_M | next.NM_M | \n",
       "|---|---|---|---|---|---|\n",
       "| 3         | SHRIMPLIN | 2793.0    | 1.000     | A1 SH     | 77.45     | 0.664     |  9.9      | 11.915    | 4.6       | ...       | 0.664     | 0.661     |  9.9      | 14.2      | 11.915    | 12.565    | 4.6       | 4.1       | 1         | 1         | \n",
       "| 3         | SHRIMPLIN | 2793.5    | 0.979     | A1 SH     | 78.26     | 0.661     | 14.2      | 12.565    | 4.1       | ...       | 0.664     | 0.658     |  9.9      | 14.8      | 11.915    | 13.050    | 4.6       | 3.6       | 1         | 1         | \n",
       "| 3         | SHRIMPLIN | 2794.0    | 0.957     | A1 SH     | 79.05     | 0.658     | 14.8      | 13.050    | 3.6       | ...       | 0.661     | 0.655     | 14.2      | 13.9      | 12.565    | 13.115    | 4.1       | 3.5       | 1         | 1         | \n",
       "| 3         | SHRIMPLIN | 2794.5    | 0.936     | A1 SH     | 86.10     | 0.655     | 13.9      | 13.115    | 3.5       | ...       | 0.658     | 0.647     | 14.8      | 13.5      | 13.050    | 13.300    | 3.6       | 3.4       | 1         | 1         | \n",
       "| 3         | SHRIMPLIN | 2795.0    | 0.915     | A1 SH     | 74.58     | 0.647     | 13.5      | 13.300    | 3.4       | ...       | 0.655     | 0.636     | 13.9      | 14.0      | 13.115    | 13.385    | 3.5       | 3.6       | 1         | 1         | \n",
       "| 3         | SHRIMPLIN | 2795.5    | 0.894     | A1 SH     | 73.97     | 0.636     | 14.0      | 13.385    | 3.6       | ...       | 0.647     | 0.630     | 13.5      | 15.6      | 13.300    | 13.930    | 3.4       | 3.7       | 1         | 1         | \n",
       "\n",
       "\n"
      ],
      "text/plain": [
       "  Facies Well.Name Depth  RELPOS Formation GR    ILD_log10 DeltaPHI PHIND  PE \n",
       "1 3      SHRIMPLIN 2793.0 1.000  A1 SH     77.45 0.664      9.9     11.915 4.6\n",
       "2 3      SHRIMPLIN 2793.5 0.979  A1 SH     78.26 0.661     14.2     12.565 4.1\n",
       "3 3      SHRIMPLIN 2794.0 0.957  A1 SH     79.05 0.658     14.8     13.050 3.6\n",
       "4 3      SHRIMPLIN 2794.5 0.936  A1 SH     86.10 0.655     13.9     13.115 3.5\n",
       "5 3      SHRIMPLIN 2795.0 0.915  A1 SH     74.58 0.647     13.5     13.300 3.4\n",
       "6 3      SHRIMPLIN 2795.5 0.894  A1 SH     73.97 0.636     14.0     13.385 3.6\n",
       "  ... prev.ILD_log10 next.ILD_log10 prev.DeltaPHI next.DeltaPHI prev.PHIND\n",
       "1 ... 0.664          0.661           9.9          14.2          11.915    \n",
       "2 ... 0.664          0.658           9.9          14.8          11.915    \n",
       "3 ... 0.661          0.655          14.2          13.9          12.565    \n",
       "4 ... 0.658          0.647          14.8          13.5          13.050    \n",
       "5 ... 0.655          0.636          13.9          14.0          13.115    \n",
       "6 ... 0.647          0.630          13.5          15.6          13.300    \n",
       "  next.PHIND prev.PE next.PE prev.NM_M next.NM_M\n",
       "1 12.565     4.6     4.1     1         1        \n",
       "2 13.050     4.6     3.6     1         1        \n",
       "3 13.115     4.1     3.5     1         1        \n",
       "4 13.300     3.6     3.4     1         1        \n",
       "5 13.385     3.5     3.6     1         1        \n",
       "6 13.930     3.4     3.7     1         1        "
      ]
     },
     "metadata": {},
     "output_type": "display_data"
    }
   ],
   "source": [
    "head(trainingData)"
   ]
  },
  {
   "cell_type": "markdown",
   "metadata": {},
   "source": [
    "## Multinomial boosted tree model"
   ]
  },
  {
   "cell_type": "code",
   "execution_count": 7,
   "metadata": {
    "collapsed": false
   },
   "outputs": [
    {
     "data": {
      "text/plain": [
       "Facies ~ Depth + RELPOS + Formation + GR + ILD_log10 + DeltaPHI + \n",
       "    PHIND + PE + NM_M + prev.Formation + next.Formation + prev.GR + \n",
       "    next.GR + prev.ILD_log10 + next.ILD_log10 + prev.DeltaPHI + \n",
       "    next.DeltaPHI + prev.PHIND + next.PHIND + prev.PE + next.PE + \n",
       "    prev.NM_M + next.NM_M"
      ]
     },
     "metadata": {},
     "output_type": "display_data"
    }
   ],
   "source": [
    "form <- as.formula(paste(\"Facies ~ \", paste(colnames(trainingData[, -(1:2)]), collapse = \"+\"), sep = \" \"))\n",
    "form"
   ]
  },
  {
   "cell_type": "code",
   "execution_count": 8,
   "metadata": {
    "collapsed": false
   },
   "outputs": [
    {
     "name": "stderr",
     "output_type": "stream",
     "text": [
      "Loading required package: survival\n",
      "Loading required package: lattice\n",
      "Loading required package: splines\n",
      "Loading required package: parallel\n",
      "Loaded gbm 2.1.1\n"
     ]
    }
   ],
   "source": [
    "library(gbm) # Using the gbm package\n",
    "library(parallel)\n",
    "# Training the model using 10-fold cross validation\n",
    "fit <- gbm(form,\n",
    "           distribution = \"multinomial\",\n",
    "           n.trees = 10000,\n",
    "           shrinkage = 0.003,\n",
    "           interaction.depth = 8,\n",
    "           cv.folds = 10,\n",
    "           data = trainingData, \n",
    "           keep.data = FALSE,\n",
    "           n.cores = 4\n",
    "          )"
   ]
  },
  {
   "cell_type": "markdown",
   "metadata": {},
   "source": [
    "## Inspect the performance"
   ]
  },
  {
   "cell_type": "code",
   "execution_count": 9,
   "metadata": {
    "collapsed": false
   },
   "outputs": [
    {
     "data": {
      "image/png": "[encoded data removed]",
      "text/plain": [
       "plot without title"
      ]
     },
     "metadata": {},
     "output_type": "display_data"
    }
   ],
   "source": [
    "optNumTrees <- gbm.perf(fit, method = \"cv\")"
   ]
  },
  {
   "cell_type": "markdown",
   "metadata": {},
   "source": [
    "## Prediction"
   ]
  },
  {
   "cell_type": "code",
   "execution_count": 10,
   "metadata": {
    "collapsed": false
   },
   "outputs": [],
   "source": [
    "# Compute the link function\n",
    "estimatedLink <- predict(fit, newdata = testData, type = \"link\", n.trees = optNumTrees)[,,1]\n",
    "# Use the classification with highest probability\n",
    "testData$Facies <- apply(estimatedLink, 1, which.max)"
   ]
  },
  {
   "cell_type": "code",
   "execution_count": 11,
   "metadata": {
    "collapsed": false
   },
   "outputs": [
    {
     "data": {
      "text/html": [
       "<table>\n",
       "<thead><tr><th scope=col>Facies</th><th scope=col>Well.Name</th><th scope=col>Depth</th><th scope=col>RELPOS</th><th scope=col>Formation</th><th scope=col>GR</th><th scope=col>ILD_log10</th><th scope=col>DeltaPHI</th><th scope=col>PHIND</th><th scope=col>PE</th><th scope=col>...</th><th scope=col>prev.ILD_log10</th><th scope=col>next.ILD_log10</th><th scope=col>prev.DeltaPHI</th><th scope=col>next.DeltaPHI</th><th scope=col>prev.PHIND</th><th scope=col>next.PHIND</th><th scope=col>prev.PE</th><th scope=col>next.PE</th><th scope=col>prev.NM_M</th><th scope=col>next.NM_M</th></tr></thead>\n",
       "<tbody>\n",
       "\t<tr><td>3     </td><td>STUART</td><td>2808.0</td><td>1.000 </td><td>A1 SH </td><td>66.276</td><td>0.630 </td><td>3.3   </td><td>10.65 </td><td>3.591 </td><td>...   </td><td>0.630 </td><td>0.585 </td><td>3.3   </td><td>6.5   </td><td>10.65 </td><td>11.95 </td><td>3.591 </td><td>3.341 </td><td>1     </td><td>1     </td></tr>\n",
       "\t<tr><td>3     </td><td>STUART</td><td>2808.5</td><td>0.978 </td><td>A1 SH </td><td>77.252</td><td>0.585 </td><td>6.5   </td><td>11.95 </td><td>3.341 </td><td>...   </td><td>0.630 </td><td>0.566 </td><td>3.3   </td><td>9.4   </td><td>10.65 </td><td>13.60 </td><td>3.591 </td><td>3.064 </td><td>1     </td><td>1     </td></tr>\n",
       "\t<tr><td>3     </td><td>STUART</td><td>2809.0</td><td>0.956 </td><td>A1 SH </td><td>82.899</td><td>0.566 </td><td>9.4   </td><td>13.60 </td><td>3.064 </td><td>...   </td><td>0.585 </td><td>0.593 </td><td>6.5   </td><td>9.5   </td><td>11.95 </td><td>13.25 </td><td>3.341 </td><td>2.977 </td><td>1     </td><td>1     </td></tr>\n",
       "\t<tr><td>3     </td><td>STUART</td><td>2809.5</td><td>0.933 </td><td>A1 SH </td><td>80.671</td><td>0.593 </td><td>9.5   </td><td>13.25 </td><td>2.977 </td><td>...   </td><td>0.566 </td><td>0.638 </td><td>9.4   </td><td>8.7   </td><td>13.60 </td><td>12.35 </td><td>3.064 </td><td>3.020 </td><td>1     </td><td>1     </td></tr>\n",
       "\t<tr><td>3     </td><td>STUART</td><td>2810.0</td><td>0.911 </td><td>A1 SH </td><td>75.971</td><td>0.638 </td><td>8.7   </td><td>12.35 </td><td>3.020 </td><td>...   </td><td>0.593 </td><td>0.667 </td><td>9.5   </td><td>6.9   </td><td>13.25 </td><td>12.25 </td><td>2.977 </td><td>3.086 </td><td>1     </td><td>1     </td></tr>\n",
       "\t<tr><td>3     </td><td>STUART</td><td>2810.5</td><td>0.889 </td><td>A1 SH </td><td>73.955</td><td>0.667 </td><td>6.9   </td><td>12.25 </td><td>3.086 </td><td>...   </td><td>0.638 </td><td>0.674 </td><td>8.7   </td><td>6.5   </td><td>12.35 </td><td>12.45 </td><td>3.020 </td><td>3.092 </td><td>1     </td><td>1     </td></tr>\n",
       "</tbody>\n",
       "</table>\n"
      ],
      "text/latex": [
       "\\begin{tabular}{r|lllllllllllllllllllllllll}\n",
       " Facies & Well.Name & Depth & RELPOS & Formation & GR & ILD\\_log10 & DeltaPHI & PHIND & PE & ... & prev.ILD\\_log10 & next.ILD\\_log10 & prev.DeltaPHI & next.DeltaPHI & prev.PHIND & next.PHIND & prev.PE & next.PE & prev.NM\\_M & next.NM\\_M\\\\\n",
       "\\hline\n",
       "\t 3      & STUART & 2808.0 & 1.000  & A1 SH  & 66.276 & 0.630  & 3.3    & 10.65  & 3.591  & ...    & 0.630  & 0.585  & 3.3    & 6.5    & 10.65  & 11.95  & 3.591  & 3.341  & 1      & 1     \\\\\n",
       "\t 3      & STUART & 2808.5 & 0.978  & A1 SH  & 77.252 & 0.585  & 6.5    & 11.95  & 3.341  & ...    & 0.630  & 0.566  & 3.3    & 9.4    & 10.65  & 13.60  & 3.591  & 3.064  & 1      & 1     \\\\\n",
       "\t 3      & STUART & 2809.0 & 0.956  & A1 SH  & 82.899 & 0.566  & 9.4    & 13.60  & 3.064  & ...    & 0.585  & 0.593  & 6.5    & 9.5    & 11.95  & 13.25  & 3.341  & 2.977  & 1      & 1     \\\\\n",
       "\t 3      & STUART & 2809.5 & 0.933  & A1 SH  & 80.671 & 0.593  & 9.5    & 13.25  & 2.977  & ...    & 0.566  & 0.638  & 9.4    & 8.7    & 13.60  & 12.35  & 3.064  & 3.020  & 1      & 1     \\\\\n",
       "\t 3      & STUART & 2810.0 & 0.911  & A1 SH  & 75.971 & 0.638  & 8.7    & 12.35  & 3.020  & ...    & 0.593  & 0.667  & 9.5    & 6.9    & 13.25  & 12.25  & 2.977  & 3.086  & 1      & 1     \\\\\n",
       "\t 3      & STUART & 2810.5 & 0.889  & A1 SH  & 73.955 & 0.667  & 6.9    & 12.25  & 3.086  & ...    & 0.638  & 0.674  & 8.7    & 6.5    & 12.35  & 12.45  & 3.020  & 3.092  & 1      & 1     \\\\\n",
       "\\end{tabular}\n"
      ],
      "text/markdown": [
       "\n",
       "Facies | Well.Name | Depth | RELPOS | Formation | GR | ILD_log10 | DeltaPHI | PHIND | PE | ... | prev.ILD_log10 | next.ILD_log10 | prev.DeltaPHI | next.DeltaPHI | prev.PHIND | next.PHIND | prev.PE | next.PE | prev.NM_M | next.NM_M | \n",
       "|---|---|---|---|---|---|\n",
       "| 3      | STUART | 2808.0 | 1.000  | A1 SH  | 66.276 | 0.630  | 3.3    | 10.65  | 3.591  | ...    | 0.630  | 0.585  | 3.3    | 6.5    | 10.65  | 11.95  | 3.591  | 3.341  | 1      | 1      | \n",
       "| 3      | STUART | 2808.5 | 0.978  | A1 SH  | 77.252 | 0.585  | 6.5    | 11.95  | 3.341  | ...    | 0.630  | 0.566  | 3.3    | 9.4    | 10.65  | 13.60  | 3.591  | 3.064  | 1      | 1      | \n",
       "| 3      | STUART | 2809.0 | 0.956  | A1 SH  | 82.899 | 0.566  | 9.4    | 13.60  | 3.064  | ...    | 0.585  | 0.593  | 6.5    | 9.5    | 11.95  | 13.25  | 3.341  | 2.977  | 1      | 1      | \n",
       "| 3      | STUART | 2809.5 | 0.933  | A1 SH  | 80.671 | 0.593  | 9.5    | 13.25  | 2.977  | ...    | 0.566  | 0.638  | 9.4    | 8.7    | 13.60  | 12.35  | 3.064  | 3.020  | 1      | 1      | \n",
       "| 3      | STUART | 2810.0 | 0.911  | A1 SH  | 75.971 | 0.638  | 8.7    | 12.35  | 3.020  | ...    | 0.593  | 0.667  | 9.5    | 6.9    | 13.25  | 12.25  | 2.977  | 3.086  | 1      | 1      | \n",
       "| 3      | STUART | 2810.5 | 0.889  | A1 SH  | 73.955 | 0.667  | 6.9    | 12.25  | 3.086  | ...    | 0.638  | 0.674  | 8.7    | 6.5    | 12.35  | 12.45  | 3.020  | 3.092  | 1      | 1      | \n",
       "\n",
       "\n"
      ],
      "text/plain": [
       "  Facies Well.Name Depth  RELPOS Formation GR     ILD_log10 DeltaPHI PHIND\n",
       "1 3      STUART    2808.0 1.000  A1 SH     66.276 0.630     3.3      10.65\n",
       "2 3      STUART    2808.5 0.978  A1 SH     77.252 0.585     6.5      11.95\n",
       "3 3      STUART    2809.0 0.956  A1 SH     82.899 0.566     9.4      13.60\n",
       "4 3      STUART    2809.5 0.933  A1 SH     80.671 0.593     9.5      13.25\n",
       "5 3      STUART    2810.0 0.911  A1 SH     75.971 0.638     8.7      12.35\n",
       "6 3      STUART    2810.5 0.889  A1 SH     73.955 0.667     6.9      12.25\n",
       "  PE    ... prev.ILD_log10 next.ILD_log10 prev.DeltaPHI next.DeltaPHI\n",
       "1 3.591 ... 0.630          0.585          3.3           6.5          \n",
       "2 3.341 ... 0.630          0.566          3.3           9.4          \n",
       "3 3.064 ... 0.585          0.593          6.5           9.5          \n",
       "4 2.977 ... 0.566          0.638          9.4           8.7          \n",
       "5 3.020 ... 0.593          0.667          9.5           6.9          \n",
       "6 3.086 ... 0.638          0.674          8.7           6.5          \n",
       "  prev.PHIND next.PHIND prev.PE next.PE prev.NM_M next.NM_M\n",
       "1 10.65      11.95      3.591   3.341   1         1        \n",
       "2 10.65      13.60      3.591   3.064   1         1        \n",
       "3 11.95      13.25      3.341   2.977   1         1        \n",
       "4 13.60      12.35      3.064   3.020   1         1        \n",
       "5 13.25      12.25      2.977   3.086   1         1        \n",
       "6 12.35      12.45      3.020   3.092   1         1        "
      ]
     },
     "metadata": {},
     "output_type": "display_data"
    }
   ],
   "source": [
    "head(testData)"
   ]
  },
  {
   "cell_type": "code",
   "execution_count": 18,
   "metadata": {
    "collapsed": false
   },
   "outputs": [],
   "source": [
    "# Write to csv\n",
    "write.csv(testData, file = \"./prediction.csv\", row.names = FALSE)"
   ]
  },
  {
   "cell_type": "code",
   "execution_count": null,
   "metadata": {
    "collapsed": true
   },
   "outputs": [],
   "source": []
  }
 ],
 "metadata": {
  "anaconda-cloud": {},
  "kernelspec": {
   "display_name": "R",
   "language": "R",
   "name": "ir"
  },
  "language_info": {
   "codemirror_mode": "r",
   "file_extension": ".r",
   "mimetype": "text/x-r-source",
   "name": "R",
   "pygments_lexer": "r",
   "version": "3.3.2"
  }
 },
 "nbformat": 4,
 "nbformat_minor": 1
}
