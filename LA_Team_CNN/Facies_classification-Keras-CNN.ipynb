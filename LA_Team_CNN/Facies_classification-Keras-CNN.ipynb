{
 "cells": [
  {
   "cell_type": "code",
   "execution_count": 164,
   "metadata": {
    "collapsed": false
   },
   "outputs": [],
   "source": [
    "%matplotlib inline\n",
    "import pandas as pd\n",
    "import numpy as np\n",
    "from pandas import set_option\n",
    "\n",
    "from sklearn import preprocessing\n",
    "from sklearn.metrics import confusion_matrix, f1_score\n",
    "\n",
    "from collections import Counter\n",
    "import operator\n",
    "\n",
    "from keras.models import Model, Sequential\n",
    "from keras.layers import Convolution2D, Dense, Input, Dropout, Flatten, MaxPooling2D, Activation\n",
    "from keras.optimizers import Nadam\n",
    "from keras.utils import np_utils\n",
    "from keras.utils.np_utils import to_categorical\n",
    "\n",
    "from keras.wrappers.scikit_learn import KerasClassifier\n",
    "from sklearn.model_selection import cross_val_score\n",
    "from sklearn.model_selection import KFold\n",
    "np.random.seed(42)\n",
    "\n",
    "def accuracy(conf):\n",
    "    total_correct = 0.\n",
    "    nb_classes = conf.shape[0]\n",
    "    for i in np.arange(0,nb_classes):\n",
    "        total_correct += conf[i][i]\n",
    "    acc = total_correct/sum(sum(conf))\n",
    "    return acc\n",
    "\n",
    "def label_facies(row, labels):\n",
    "    return labels[ row['Facies'] -1]\n",
    "    \n",
    "\n",
    "set_option(\"display.max_rows\", 10)\n",
    "pd.options.mode.chained_assignment = None\n",
    "\n",
    "filename = 'facies_vectors.csv'\n",
    "training_data = pd.read_csv(filename)\n",
    "\n",
    "\n",
    "training_data['Well Name'] = training_data['Well Name'].astype('category')\n",
    "training_data['Formation'] = training_data['Formation'].astype('category')\n",
    "training_data['Well Name'].unique()\n",
    "\n",
    "# 1=sandstone  2=c_siltstone   3=f_siltstone \n",
    "# 4=marine_silt_shale 5=mudstone 6=wackestone 7=dolomite\n",
    "# 8=packstone 9=bafflestone\n",
    "facies_colors = ['#F4D03F', '#F5B041','#DC7633','#6E2C00',\n",
    "       '#1B4F72','#2E86C1', '#AED6F1', '#A569BD', '#196F3D']\n",
    "\n",
    "facies_labels = ['SS', 'CSiS', 'FSiS', 'SiSh', 'MS',\n",
    "                 'WS', 'D','PS', 'BS']\n",
    "#facies_color_map is a dictionary that maps facies labels\n",
    "#to their respective colors\n",
    "facies_color_map = {}\n",
    "for ind, label in enumerate(facies_labels):\n",
    "    facies_color_map[label] = facies_colors[ind]\n",
    "\n",
    "training_data.loc[:,'FaciesLabels'] = training_data.apply(lambda row: label_facies(row, facies_labels), axis=1)\n",
    "\n",
    "PE_mask = training_data['PE'].notnull().values\n",
    "\n",
    "mean_pe = training_data['PE'].mean()\n",
    "std_pe = training_data['PE'].std()\n",
    "training_data['PE'] = (training_data['PE']-mean_pe)/std_pe\n",
    "PE_mask = training_data['PE'].notnull().values\n",
    "\n",
    "training_data['PE'] = training_data['PE'].fillna(value=0)\n",
    "\n",
    "correct_facies_labels = training_data['Facies'].values\n",
    "\n",
    "feature_vectors = training_data.drop(['Formation', 'FaciesLabels'], axis=1)#, 'RELPOS', 'NM_M', 'Depth', 'ILD_log10',  'DeltaPHI',   'PHIND'], axis=1)\n",
    "\n",
    "well_labels = training_data[['Well Name', 'Facies']].values\n",
    "data_vectors = feature_vectors.drop(['Well Name', 'Facies'], axis=1).values\n",
    "\n",
    "scaler = preprocessing.StandardScaler().fit(data_vectors)\n",
    "scaled_features = scaler.transform(data_vectors)\n",
    "\n",
    "data_out = np.hstack([well_labels, scaled_features])"
   ]
  },
  {
   "cell_type": "code",
   "execution_count": 75,
   "metadata": {
    "collapsed": false
   },
   "outputs": [
    {
     "name": "stdout",
     "output_type": "stream",
     "text": [
      "9 set([0, 1, 2, 3, 4, 5, 6, 7, 8])\n",
      "(4149, 8, 22) (830, 8, 22)\n",
      "(4149,) (830,)\n"
     ]
    }
   ],
   "source": [
    "data = data_out\n",
    "well_data = {}\n",
    "well_names = list(set(data[:, 0]))\n",
    "for name in well_names:\n",
    "    well_data[name] = [[], []]\n",
    "    \n",
    "for row in data:\n",
    "    well_data[row[0]][1].append(row[1])\n",
    "    well_data[row[0]][0].append(list(row[2::]))\n",
    "\n",
    "positive_lag = 10\n",
    "negative_lag = 11\n",
    "\n",
    "chunks_cnn = []\n",
    "chunks_cnn_test = []\n",
    "chunk_length = positive_lag+negative_lag+1 #were gonna predict middle facies\n",
    "chunks_facies_cnn = []\n",
    "\n",
    "for name in well_names:\n",
    "    if name not in ['STUART', 'CRAWFORD']:\n",
    "        test_well_data = well_data[name]\n",
    "        log_values = np.array(test_well_data[0])\n",
    "        log_values_padded = np.lib.pad(log_values, (negative_lag,positive_lag), 'edge')[:, negative_lag:-positive_lag]\n",
    "        facies_values =  np.array(test_well_data[1])\n",
    "        for i in range(log_values.shape[0]):\n",
    "            chunk = log_values_padded[i:i+chunk_length, :]\n",
    "            chunk_trans = chunk.T\n",
    "            chunks_cnn.append(chunk_trans)\n",
    "            chunks_facies_cnn.append(facies_values[i])\n",
    "    else:\n",
    "        test_well_data = well_data[name]\n",
    "        log_values = np.array(test_well_data[0])\n",
    "        log_values_padded = np.lib.pad(log_values, (negative_lag,positive_lag), 'edge')[:, negative_lag:-positive_lag]\n",
    "        facies_values =  np.array(test_well_data[1])\n",
    "        for i in range(log_values.shape[0]):\n",
    "            chunk = log_values_padded[i:i+chunk_length, :]\n",
    "            chunk_trans = chunk.T\n",
    "            chunks_cnn_test.append(chunk_trans)\n",
    "\n",
    "chunks_cnn = np.array(chunks_cnn)\n",
    "chunks_cnn_test = np.array(chunks_cnn_test)\n",
    "\n",
    "chunks_facies_cnn = np.array(chunks_facies_cnn, dtype=np.int32)-1\n",
    "\n",
    "unique_facies = len(set(chunks_facies_cnn))\n",
    "print unique_facies, set(chunks_facies_cnn)\n",
    "print chunks_cnn.shape, chunks_cnn_test.shape\n",
    "print chunks_facies_cnn.shape, chunks_facies_cnn_test.shape"
   ]
  },
  {
   "cell_type": "code",
   "execution_count": 165,
   "metadata": {
    "collapsed": false
   },
   "outputs": [],
   "source": [
    "X = chunks_cnn\n",
    "y = chunks_facies_cnn\n",
    "\n",
    "X = X.reshape((chunks_cnn.shape[0], chunks_cnn.shape[1], chunks_cnn.shape[2], 1))\n",
    "\n",
    "y = np_utils.to_categorical(y)\n",
    "\n",
    "N = 128\n",
    "cnn = Sequential()\n",
    "cnn.add(Convolution2D(N, 1, 5, border_mode=\"same\",activation=\"relu\",input_shape=(chunks_cnn.shape[1], chunks_cnn.shape[2], 1)))\n",
    "cnn.add(MaxPooling2D(pool_size=(1, 2)))\n",
    "cnn.add(Dropout(0.25))\n",
    "cnn.add(Convolution2D(N, 1, 3, border_mode=\"same\",activation=\"relu\",input_shape=(chunks_cnn.shape[1], chunks_cnn.shape[2], 1)))\n",
    "cnn.add(MaxPooling2D(pool_size=(1, 2)))\n",
    "#cnn.add(Dropout(0.5))\n",
    "cnn.add(Convolution2D(N, 2, 2, border_mode=\"same\", activation=\"relu\"))\n",
    "#cnn.add(Convolution2D(N, 3, 1, border_mode=\"same\", activation=\"relu\"))\n",
    "cnn.add(MaxPooling2D(pool_size=(2, 2)))\n",
    "cnn.add(Dropout(0.8))\n",
    "cnn.add(Flatten())\n",
    "cnn.add(Dense(128, activation=\"relu\"))\n",
    "cnn.add(Dropout(0.5))\n",
    "cnn.add(Dense(64, activation=\"relu\"))\n",
    "cnn.add(Dropout(0.5))\n",
    "cnn.add(Dense(9, activation=\"softmax\"))\n",
    "cnn.compile(loss=\"categorical_crossentropy\", optimizer=\"adam\", metrics=['acc'])"
   ]
  },
  {
   "cell_type": "code",
   "execution_count": 166,
   "metadata": {
    "collapsed": false,
    "scrolled": true
   },
   "outputs": [
    {
     "name": "stdout",
     "output_type": "stream",
     "text": [
      "Train on 2779 samples, validate on 1370 samples\n",
      "Epoch 1/50\n",
      "2779/2779 [==============================] - 11s - loss: 2.0676 - acc: 0.2008 - val_loss: 1.9267 - val_acc: 0.3066\n",
      "Epoch 2/50\n",
      "2779/2779 [==============================] - 6s - loss: 1.8057 - acc: 0.3203 - val_loss: 1.5487 - val_acc: 0.3832\n",
      "Epoch 3/50\n",
      "2779/2779 [==============================] - 6s - loss: 1.5788 - acc: 0.3692 - val_loss: 1.4074 - val_acc: 0.4139\n",
      "Epoch 4/50\n",
      "2779/2779 [==============================] - 6s - loss: 1.4892 - acc: 0.3908 - val_loss: 1.3265 - val_acc: 0.4380\n",
      "Epoch 5/50\n",
      "2779/2779 [==============================] - 6s - loss: 1.4125 - acc: 0.4070 - val_loss: 1.2742 - val_acc: 0.5029\n",
      "Epoch 6/50\n",
      "2779/2779 [==============================] - 6s - loss: 1.3712 - acc: 0.4293 - val_loss: 1.2515 - val_acc: 0.5372\n",
      "Epoch 7/50\n",
      "2779/2779 [==============================] - 6s - loss: 1.3365 - acc: 0.4430 - val_loss: 1.2231 - val_acc: 0.5343\n",
      "Epoch 8/50\n",
      "2779/2779 [==============================] - 6s - loss: 1.3182 - acc: 0.4574 - val_loss: 1.1931 - val_acc: 0.5380\n",
      "Epoch 9/50\n",
      "2779/2779 [==============================] - 6s - loss: 1.2711 - acc: 0.4833 - val_loss: 1.1941 - val_acc: 0.5358\n",
      "Epoch 10/50\n",
      "2779/2779 [==============================] - 6s - loss: 1.2746 - acc: 0.4682 - val_loss: 1.2026 - val_acc: 0.5482\n",
      "Epoch 11/50\n",
      "2779/2779 [==============================] - 6s - loss: 1.2436 - acc: 0.4919 - val_loss: 1.1779 - val_acc: 0.5460\n",
      "Epoch 12/50\n",
      "2779/2779 [==============================] - 6s - loss: 1.2378 - acc: 0.4811 - val_loss: 1.1976 - val_acc: 0.5518\n",
      "Epoch 13/50\n",
      "2779/2779 [==============================] - 6s - loss: 1.2172 - acc: 0.5005 - val_loss: 1.1914 - val_acc: 0.5569\n",
      "Epoch 14/50\n",
      "2779/2779 [==============================] - 6s - loss: 1.1914 - acc: 0.5211 - val_loss: 1.1953 - val_acc: 0.5307\n",
      "Epoch 15/50\n",
      "2779/2779 [==============================] - 6s - loss: 1.1973 - acc: 0.5099 - val_loss: 1.1707 - val_acc: 0.5387\n",
      "Epoch 16/50\n",
      "2779/2779 [==============================] - 6s - loss: 1.1863 - acc: 0.5121 - val_loss: 1.1600 - val_acc: 0.5460\n",
      "Epoch 17/50\n",
      "2779/2779 [==============================] - 7s - loss: 1.1794 - acc: 0.5052 - val_loss: 1.1864 - val_acc: 0.5343\n",
      "Epoch 18/50\n",
      "2779/2779 [==============================] - 8s - loss: 1.1485 - acc: 0.5225 - val_loss: 1.1630 - val_acc: 0.5584\n",
      "Epoch 19/50\n",
      "2779/2779 [==============================] - 6s - loss: 1.1250 - acc: 0.5268 - val_loss: 1.1774 - val_acc: 0.5628\n",
      "Epoch 20/50\n",
      "2779/2779 [==============================] - 6s - loss: 1.1287 - acc: 0.5549 - val_loss: 1.1717 - val_acc: 0.5606\n",
      "Epoch 21/50\n",
      "2779/2779 [==============================] - 7s - loss: 1.1214 - acc: 0.5434 - val_loss: 1.1863 - val_acc: 0.5577\n",
      "Epoch 22/50\n",
      "2779/2779 [==============================] - 8s - loss: 1.1256 - acc: 0.5365 - val_loss: 1.1934 - val_acc: 0.5423\n",
      "Epoch 23/50\n",
      "2779/2779 [==============================] - 7s - loss: 1.0938 - acc: 0.5524 - val_loss: 1.1816 - val_acc: 0.5409\n",
      "Epoch 24/50\n",
      "2779/2779 [==============================] - 7s - loss: 1.0834 - acc: 0.5538 - val_loss: 1.1815 - val_acc: 0.5591\n",
      "Epoch 25/50\n",
      "2779/2779 [==============================] - 7s - loss: 1.0741 - acc: 0.5750 - val_loss: 1.1758 - val_acc: 0.5562\n",
      "Epoch 26/50\n",
      "2779/2779 [==============================] - 6s - loss: 1.0684 - acc: 0.5574 - val_loss: 1.1744 - val_acc: 0.5620\n",
      "Epoch 27/50\n",
      "2779/2779 [==============================] - 6s - loss: 1.0508 - acc: 0.5711 - val_loss: 1.1804 - val_acc: 0.5628\n",
      "Epoch 28/50\n",
      "2779/2779 [==============================] - 6s - loss: 1.0948 - acc: 0.5650 - val_loss: 1.1872 - val_acc: 0.5526\n",
      "Epoch 29/50\n",
      "2779/2779 [==============================] - 6s - loss: 1.0508 - acc: 0.5761 - val_loss: 1.1804 - val_acc: 0.5474\n",
      "Epoch 30/50\n",
      "2779/2779 [==============================] - 7s - loss: 1.0421 - acc: 0.5855 - val_loss: 1.1765 - val_acc: 0.5547\n",
      "Epoch 31/50\n",
      "2779/2779 [==============================] - 7s - loss: 1.0406 - acc: 0.5783 - val_loss: 1.1687 - val_acc: 0.5547\n",
      "Epoch 32/50\n",
      "2779/2779 [==============================] - 6s - loss: 1.0440 - acc: 0.5804 - val_loss: 1.1656 - val_acc: 0.5562\n",
      "Epoch 33/50\n",
      "2779/2779 [==============================] - 7s - loss: 1.0124 - acc: 0.5891 - val_loss: 1.1640 - val_acc: 0.5569\n",
      "Epoch 34/50\n",
      "2779/2779 [==============================] - 7s - loss: 1.0154 - acc: 0.5873 - val_loss: 1.1506 - val_acc: 0.5650\n",
      "Epoch 35/50\n",
      "2779/2779 [==============================] - 7s - loss: 1.0295 - acc: 0.5822 - val_loss: 1.1766 - val_acc: 0.5307\n",
      "Epoch 36/50\n",
      "2779/2779 [==============================] - 7s - loss: 1.0101 - acc: 0.5912 - val_loss: 1.2071 - val_acc: 0.5737\n",
      "Epoch 37/50\n",
      "2779/2779 [==============================] - 6s - loss: 1.0122 - acc: 0.6027 - val_loss: 1.1740 - val_acc: 0.5591\n",
      "Epoch 38/50\n",
      "2779/2779 [==============================] - 9s - loss: 0.9949 - acc: 0.6024 - val_loss: 1.2234 - val_acc: 0.5555\n",
      "Epoch 39/50\n",
      "2779/2779 [==============================] - 8s - loss: 0.9835 - acc: 0.6107 - val_loss: 1.1746 - val_acc: 0.5606\n",
      "Epoch 40/50\n",
      "2779/2779 [==============================] - 7s - loss: 0.9670 - acc: 0.6038 - val_loss: 1.1837 - val_acc: 0.5496\n",
      "Epoch 41/50\n",
      "2779/2779 [==============================] - 7s - loss: 0.9685 - acc: 0.6042 - val_loss: 1.1635 - val_acc: 0.5526\n",
      "Epoch 42/50\n",
      "2779/2779 [==============================] - 7s - loss: 0.9589 - acc: 0.6168 - val_loss: 1.1747 - val_acc: 0.5409\n",
      "Epoch 43/50\n",
      "2779/2779 [==============================] - 7s - loss: 0.9515 - acc: 0.6171 - val_loss: 1.1808 - val_acc: 0.5723\n",
      "Epoch 44/50\n",
      "2779/2779 [==============================] - 7s - loss: 0.9571 - acc: 0.6125 - val_loss: 1.1746 - val_acc: 0.5540\n",
      "Epoch 45/50\n",
      "2779/2779 [==============================] - 7s - loss: 0.9522 - acc: 0.6204 - val_loss: 1.1930 - val_acc: 0.5380\n",
      "Epoch 46/50\n",
      "2779/2779 [==============================] - 7s - loss: 0.9368 - acc: 0.6211 - val_loss: 1.1892 - val_acc: 0.5533\n",
      "Epoch 47/50\n",
      "2779/2779 [==============================] - 7s - loss: 0.9311 - acc: 0.6319 - val_loss: 1.2045 - val_acc: 0.5460\n",
      "Epoch 48/50\n",
      "2779/2779 [==============================] - 7s - loss: 0.9255 - acc: 0.6254 - val_loss: 1.1603 - val_acc: 0.5438\n",
      "Epoch 49/50\n",
      "2779/2779 [==============================] - 7s - loss: 0.9231 - acc: 0.6232 - val_loss: 1.1794 - val_acc: 0.5489\n",
      "Epoch 50/50\n",
      "2779/2779 [==============================] - 8s - loss: 0.9153 - acc: 0.6222 - val_loss: 1.2401 - val_acc: 0.5555\n"
     ]
    },
    {
     "data": {
      "text/plain": [
       "<keras.callbacks.History at 0x7f222204cad0>"
      ]
     },
     "execution_count": 166,
     "metadata": {},
     "output_type": "execute_result"
    }
   ],
   "source": [
    "cnn.fit(X, y, nb_epoch=50, validation_split=0.33, batch_size=32, verbose=1, show_accuracy=True, shuffle=True)"
   ]
  },
  {
   "cell_type": "code",
   "execution_count": 167,
   "metadata": {
    "collapsed": false
   },
   "outputs": [
    {
     "name": "stdout",
     "output_type": "stream",
     "text": [
      "4149/4149 [==============================] - 3s     \n",
      "\n",
      "[[171  85  12   0   0   0   0   0   0]\n",
      " [ 27 741 165   0   0   5   0   2   0]\n",
      " [  0 205 563   0   0   6   1   5   0]\n",
      " [  0   2   3 157   9  80   1  19   0]\n",
      " [  0   4   8  23  81 108   4  68   0]\n",
      " [  0   0   2  23  35 350   8 164   0]\n",
      " [  0   0   1   0   0   6  83  51   0]\n",
      " [  0   0   9   4   1 133  10 523   6]\n",
      " [  0   0   0   0   0  19   1  31 134]]\n",
      "0.671977638709\n"
     ]
    }
   ],
   "source": [
    "y_predicted = cnn.predict(X, batch_size=32, verbose=1)\n",
    "\n",
    "y_preds = []\n",
    "for row in y_predicted:\n",
    "    index, value = max(enumerate(row), key=operator.itemgetter(1))\n",
    "    y_preds.append(index)\n",
    "\n",
    "print \"\"    \n",
    "print confusion_matrix(chunks_facies_cnn, y_preds)\n",
    "print f1_score(chunks_facies_cnn, y_preds, average='weighted')"
   ]
  },
  {
   "cell_type": "markdown",
   "metadata": {},
   "source": [
    "## Test Our Model"
   ]
  },
  {
   "cell_type": "code",
   "execution_count": 168,
   "metadata": {
    "collapsed": false
   },
   "outputs": [
    {
     "name": "stdout",
     "output_type": "stream",
     "text": [
      "830/830 [==============================] - 0s     \n"
     ]
    }
   ],
   "source": [
    "X_test = chunks_cnn_test\n",
    "\n",
    "X_test = X_test.reshape((chunks_cnn_test.shape[0], chunks_cnn_test.shape[1], chunks_cnn_test.shape[2], 1))\n",
    "\n",
    "\n",
    "y_predicted = cnn.predict(X_test, batch_size=32, verbose=1)\n",
    "\n",
    "y_preds = []\n",
    "for row in y_predicted:\n",
    "    index, value = max(enumerate(row), key=operator.itemgetter(1))\n",
    "    y_preds.append(index)\n",
    "y_preds = np.array(y_preds)+1   "
   ]
  },
  {
   "cell_type": "code",
   "execution_count": 169,
   "metadata": {
    "collapsed": false
   },
   "outputs": [
    {
     "name": "stdout",
     "output_type": "stream",
     "text": [
      "[2 2 2 2 2 2 2 2 2 2 2 2 2 2 2 2 2 2 2 2 2 2 2 2 2 2 2 2 2 2 2 2 2 2 2 2 2\n",
      " 2 2 3 3 3 3 8 8 8 8 8 8 8 8 6 6 6 6 4 4 4 6 4 6 6 6 6 6 6 6 6 6 8 8 8 8 8\n",
      " 8 8 8 8 8 8 8 8 6 6 6 6 6 8 8 8 8 8 8 6 6 6 6 6 6 6 6 6 6 6 4 4 6 8 8 8 8\n",
      " 8 8 8 6 6 6 6 6 6 3 3 3 3 3 3 2 2 2 2 2 2 2 2 2 2 2 2 2 2 2 2 2 2 2 2 3 3\n",
      " 3 3 8 8 8 8 8 8 8 8 8 8 8 8 8 8 8 8 8 6 8 8 8 8 8 8 8 8 6 6 6 6 6 6 3 3 3\n",
      " 3 3 3 2 2 2 2 2 2 2 2 2 3 3 3 8 8 8 8 8 8 8 8 8 8 8 8 8 8 8 8 8 8 8 8 8 8\n",
      " 8 8 8 8 8 3 3 3 3 3 2 2 2 2 2 2 2 2 2 2 2 2 2 2 2 3 3 8 8 8 8 8 8 8 8 8 8\n",
      " 2 2 2 2 2 2 2 2 2 2 2 2 2 2 2 2 3 3 3 8 8 8 8 8 8 8 8 8 6 6 6 6 3 3 3 3 6\n",
      " 7 8 8 8 8 8 8 8 8 8 8 8 7 7 8 8 8 8 8 8 8 8 8 8 8 8 8 8 8 8 8 6 6 6 6 6 6\n",
      " 6 3 3 3 3 3 3 3 3 3 3 3 3 3 3 3 3 3 3 2 2 2 2 2 2 2 2 2 2 2 2 2 2 2 2 2 3\n",
      " 3 3 3 8 8 8 8 8 8 8 8 8 8 8 8 8 8 8 8 8 8 8 8 8 6 6 6 6 6 6 6 6 6 6 6 6 6\n",
      " 6 6 6 6 6 6 6 6 6 6 6 6 6 6 6 6 6 6 6 6 6 6 6 6 6 6 6 6 6 6 5 4 4 4 4 4 4\n",
      " 4 4 4 4 4 4 4 4 4 4 4 4 4 4 4 4 4 4 4 4 4 4 4 4 4 4 4 4 4 4 6 8 8 8 8 8 8\n",
      " 8 8 6 6 6 6 6 6 6 6 6 6 6 6 6 6 6 6 6 6 6 6 4 4 4 6 6 6 6 4 4 6 6 4 4 4 6\n",
      " 6 6 6 6 6 8 8 6 6 6 6 6 6 6 6 6 6 6 6 6 6 6 6 6 2 2 2 2 1 1 1 1 1 1 1 1 1\n",
      " 1 6 6 6 6 6 8 8 8 8 8 8 8 8 8 8 6 6 6 6 6 6 6 6 6 6 6 6 6 6 6 6 6 8 8 8 8\n",
      " 8 8 8 8 8 6 6 6 6 6 6 6 6 6 6 6 6 6 6 6 6 6 8 8 8 6 6 6 3 3 2 2 2 2 2 2 2\n",
      " 2 2 2 2 2 2 2 2 2 2 8 8 8 8 8 8 8 8 8 8 8 8 8 8 8 8 8 8 8 8 8 8 8 8 8 8 8\n",
      " 8 8 3 3 3 2 2 2 2 2 2 2 2 2 2 2 2 2 2 3 3 8 8 8 8 8 8 8 8 8 8 8 8 8 8 6 6\n",
      " 2 2 2 2 2 2 2 2 2 2 2 2 2 2 2 2 2 2 3 3 8 8 8 8 8 8 8 8 8 8 6 6 6 6 6 6 6\n",
      " 3 3 3 3 2 2 2 2 2 3 3 3 3 8 8 8 8 8 8 8 8 8 6 7 7 7 7 7 7 7 7 7 7 7 7 7 8\n",
      " 8 8 8 8 8 8 8 8 8 8 8 7 7 7 7 7 7 7 7 7 7 7 8 8 8 8 8 8 8 8 8 8 8 6 6 3 3\n",
      " 3 3 3 3 3 2 2 2 2 2 2 2 2 2 2 2]\n"
     ]
    }
   ],
   "source": [
    "print y_preds"
   ]
  },
  {
   "cell_type": "code",
   "execution_count": 170,
   "metadata": {
    "collapsed": true
   },
   "outputs": [],
   "source": [
    "test_data = pd.read_csv(\"validation_data_nofacies_online.csv\")\n",
    "test_data['Facies'] = pd.Series(y_preds)\n",
    "test_data.to_csv(\"validation_data_with_facies_new.csv\")"
   ]
  },
  {
   "cell_type": "code",
   "execution_count": 171,
   "metadata": {
    "collapsed": false
   },
   "outputs": [
    {
     "name": "stdout",
     "output_type": "stream",
     "text": [
      "  Formation Well Name   Depth      GR  ILD_log10  DeltaPHI  PHIND     PE  \\\n",
      "0     A1 SH    STUART  2808.0  66.276      0.630       3.3  10.65  3.591   \n",
      "1     A1 SH    STUART  2808.5  77.252      0.585       6.5  11.95  3.341   \n",
      "2     A1 SH    STUART  2809.0  82.899      0.566       9.4  13.60  3.064   \n",
      "3     A1 SH    STUART  2809.5  80.671      0.593       9.5  13.25  2.977   \n",
      "4     A1 SH    STUART  2810.0  75.971      0.638       8.7  12.35  3.020   \n",
      "\n",
      "   NM_M  RELPOS  Facies  \n",
      "0     1   1.000       2  \n",
      "1     1   0.978       2  \n",
      "2     1   0.956       2  \n",
      "3     1   0.933       2  \n",
      "4     1   0.911       2  \n"
     ]
    }
   ],
   "source": [
    "print test_data.head()"
   ]
  },
  {
   "cell_type": "code",
   "execution_count": null,
   "metadata": {
    "collapsed": true
   },
   "outputs": [],
   "source": []
  }
 ],
 "metadata": {
  "anaconda-cloud": {},
  "kernelspec": {
   "display_name": "Python 2",
   "language": "python",
   "name": "python2"
  },
  "language_info": {
   "codemirror_mode": {
    "name": "ipython",
    "version": 2
   },
   "file_extension": ".py",
   "mimetype": "text/x-python",
   "name": "python",
   "nbconvert_exporter": "python",
   "pygments_lexer": "ipython2",
   "version": "2.7.12+"
  }
 },
 "nbformat": 4,
 "nbformat_minor": 0
}
